{
 "cells": [
  {
   "cell_type": "code",
   "execution_count": 1,
   "id": "initial_id",
   "metadata": {
    "collapsed": true,
    "ExecuteTime": {
     "end_time": "2024-03-09T13:57:43.814259Z",
     "start_time": "2024-03-09T13:57:42.518744Z"
    }
   },
   "outputs": [],
   "source": [
    "from time import perf_counter\n",
    "import whisper\n",
    "from whisper.transcribe import get_writer"
   ]
  },
  {
   "cell_type": "code",
   "outputs": [],
   "source": [
    "MODEL_PATH = \"J:/whisper\"\n",
    "AUDIO_PATH = \"./audio\"\n",
    "OUTPUT_PATH = \"./output/openai/\"\n",
    "REPORT_PATH = \"./reports\""
   ],
   "metadata": {
    "collapsed": false,
    "ExecuteTime": {
     "end_time": "2024-03-09T13:57:43.817845Z",
     "start_time": "2024-03-09T13:57:43.815257Z"
    }
   },
   "id": "273de8568543cd55",
   "execution_count": 2
  },
  {
   "cell_type": "code",
   "outputs": [],
   "source": [
    "model = whisper.load_model(\n",
    "    \"large-v2\",\n",
    "    device=\"cuda\",\n",
    "    download_root=MODEL_PATH\n",
    ").to(\"cuda\")"
   ],
   "metadata": {
    "collapsed": false,
    "ExecuteTime": {
     "end_time": "2024-03-09T13:57:55.817934Z",
     "start_time": "2024-03-09T13:57:43.817845Z"
    }
   },
   "id": "a2ded3a4ac018d63",
   "execution_count": 3
  },
  {
   "cell_type": "code",
   "outputs": [],
   "source": [
    "files = [\n",
    "]"
   ],
   "metadata": {
    "collapsed": false,
    "ExecuteTime": {
     "end_time": "2024-03-09T13:57:55.820950Z",
     "start_time": "2024-03-09T13:57:55.818932Z"
    }
   },
   "id": "28b611e61975c610",
   "execution_count": 4
  },
  {
   "cell_type": "code",
   "outputs": [],
   "source": [
    "writer = get_writer(\n",
    "    \"all\", OUTPUT_PATH\n",
    ")"
   ],
   "metadata": {
    "collapsed": false,
    "ExecuteTime": {
     "end_time": "2024-03-09T13:57:55.826431Z",
     "start_time": "2024-03-09T13:57:55.821947Z"
    }
   },
   "id": "307bf5da4662e87b",
   "execution_count": 5
  },
  {
   "cell_type": "code",
   "outputs": [],
   "source": [
    "reports = []"
   ],
   "metadata": {
    "collapsed": false,
    "ExecuteTime": {
     "end_time": "2024-03-09T13:57:55.830748Z",
     "start_time": "2024-03-09T13:57:55.826431Z"
    }
   },
   "id": "1bf87c1e915aabb8",
   "execution_count": 6
  },
  {
   "cell_type": "code",
   "outputs": [],
   "source": [
    "for f in files:\n",
    "    print(f\"Starting file {f}\")\n",
    "    s = perf_counter()\n",
    "    result = model.transcribe(\n",
    "        f\"{AUDIO_PATH}/{f}\",\n",
    "        language=\"polish\"\n",
    "    )\n",
    "    e = perf_counter()\n",
    "    print(f\"It took {e-s}\")\n",
    "    reports.append({f\"{f}\": e-s})\n",
    "    writer(result, f\"{f}\")\n"
   ],
   "metadata": {
    "collapsed": false
   },
   "id": "3d527e2eb2ab3c13",
   "execution_count": null
  },
  {
   "cell_type": "code",
   "outputs": [],
   "source": [
    "with open(f\"{REPORT_PATH}/openai.txt\", \"a\") as f:\n",
    "    for r in reports:\n",
    "        for k, v in r.items():\n",
    "            f.write(f\"{k}: {v}\\n\")"
   ],
   "metadata": {
    "collapsed": false,
    "ExecuteTime": {
     "end_time": "2024-03-09T14:20:20.697110Z",
     "start_time": "2024-03-09T14:20:20.694535Z"
    }
   },
   "id": "f2807984ad8342a4",
   "execution_count": 8
  },
  {
   "cell_type": "code",
   "outputs": [],
   "source": [],
   "metadata": {
    "collapsed": false
   },
   "id": "27e5e051893f80f5"
  }
 ],
 "metadata": {
  "kernelspec": {
   "display_name": "Python 3",
   "language": "python",
   "name": "python3"
  },
  "language_info": {
   "codemirror_mode": {
    "name": "ipython",
    "version": 2
   },
   "file_extension": ".py",
   "mimetype": "text/x-python",
   "name": "python",
   "nbconvert_exporter": "python",
   "pygments_lexer": "ipython2",
   "version": "2.7.6"
  }
 },
 "nbformat": 4,
 "nbformat_minor": 5
}
